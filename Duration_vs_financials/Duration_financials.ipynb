{
 "cells": [
  {
   "cell_type": "code",
   "execution_count": 1,
   "metadata": {},
   "outputs": [],
   "source": [
    "# Dependencies and Setup\n",
    "import matplotlib.pyplot as plt\n",
    "import pandas as pd\n",
    "import numpy as np"
   ]
  },
  {
   "cell_type": "code",
   "execution_count": 5,
   "metadata": {},
   "outputs": [
    {
     "data": {
      "text/html": [
       "<div>\n",
       "<style scoped>\n",
       "    .dataframe tbody tr th:only-of-type {\n",
       "        vertical-align: middle;\n",
       "    }\n",
       "\n",
       "    .dataframe tbody tr th {\n",
       "        vertical-align: top;\n",
       "    }\n",
       "\n",
       "    .dataframe thead th {\n",
       "        text-align: right;\n",
       "    }\n",
       "</style>\n",
       "<table border=\"1\" class=\"dataframe\">\n",
       "  <thead>\n",
       "    <tr style=\"text-align: right;\">\n",
       "      <th></th>\n",
       "      <th>Unnamed: 0</th>\n",
       "      <th>IMDB ID</th>\n",
       "      <th>Title</th>\n",
       "      <th>Year</th>\n",
       "      <th>Date Published</th>\n",
       "      <th>Genre</th>\n",
       "      <th>Duration</th>\n",
       "      <th>Country</th>\n",
       "      <th>Language</th>\n",
       "      <th>Director</th>\n",
       "      <th>Writer</th>\n",
       "      <th>Production Company</th>\n",
       "      <th>Actors</th>\n",
       "      <th>Avg Rating</th>\n",
       "      <th># of Ratings</th>\n",
       "      <th>Lifetime_Gross</th>\n",
       "      <th>Lifetime Gross - Adjusted ($)</th>\n",
       "    </tr>\n",
       "  </thead>\n",
       "  <tbody>\n",
       "    <tr>\n",
       "      <th>0</th>\n",
       "      <td>0</td>\n",
       "      <td>tt0012190</td>\n",
       "      <td>The Four Horsemen of the Apocalypse</td>\n",
       "      <td>1921</td>\n",
       "      <td>1923-01-08</td>\n",
       "      <td>Drama, Romance, War</td>\n",
       "      <td>150</td>\n",
       "      <td>USA</td>\n",
       "      <td>None</td>\n",
       "      <td>Rex Ingram</td>\n",
       "      <td>Vicente Blasco Ibáñez, June Mathis</td>\n",
       "      <td>Metro Pictures Corporation</td>\n",
       "      <td>Pomeroy Cannon, Josef Swickard, Bridgetta Clar...</td>\n",
       "      <td>7.2</td>\n",
       "      <td>2935</td>\n",
       "      <td>$9,183,673.00</td>\n",
       "      <td>$128,831,540.56</td>\n",
       "    </tr>\n",
       "    <tr>\n",
       "      <th>1</th>\n",
       "      <td>1</td>\n",
       "      <td>tt0017136</td>\n",
       "      <td>Metropolis</td>\n",
       "      <td>1927</td>\n",
       "      <td>1927-02-06</td>\n",
       "      <td>Drama, Sci-Fi</td>\n",
       "      <td>153</td>\n",
       "      <td>Germany</td>\n",
       "      <td>German</td>\n",
       "      <td>Fritz Lang</td>\n",
       "      <td>Thea von Harbou, Thea von Harbou</td>\n",
       "      <td>Universum Film (UFA)</td>\n",
       "      <td>Alfred Abel, Gustav Fröhlich, Rudolf Klein-Rog...</td>\n",
       "      <td>8.3</td>\n",
       "      <td>148396</td>\n",
       "      <td>$1,236,166.00</td>\n",
       "      <td>$17,839,651.48</td>\n",
       "    </tr>\n",
       "    <tr>\n",
       "      <th>2</th>\n",
       "      <td>2</td>\n",
       "      <td>tt0017354</td>\n",
       "      <td>The Sea Beast</td>\n",
       "      <td>1926</td>\n",
       "      <td>1926-01-15</td>\n",
       "      <td>Action, Adventure, Fantasy</td>\n",
       "      <td>136</td>\n",
       "      <td>USA</td>\n",
       "      <td>English</td>\n",
       "      <td>Millard Webb</td>\n",
       "      <td>Herman Melville, Bess Meredyth</td>\n",
       "      <td>Warner Bros.</td>\n",
       "      <td>John Barrymore, Dolores Costello, George O'Har...</td>\n",
       "      <td>6.5</td>\n",
       "      <td>126</td>\n",
       "      <td>$814,000.00</td>\n",
       "      <td>$11,548,084.63</td>\n",
       "    </tr>\n",
       "    <tr>\n",
       "      <th>3</th>\n",
       "      <td>3</td>\n",
       "      <td>tt0021749</td>\n",
       "      <td>City Lights</td>\n",
       "      <td>1931</td>\n",
       "      <td>1931-08-21</td>\n",
       "      <td>Comedy, Drama, Romance</td>\n",
       "      <td>87</td>\n",
       "      <td>USA</td>\n",
       "      <td>English</td>\n",
       "      <td>Charles Chaplin</td>\n",
       "      <td>Charles Chaplin</td>\n",
       "      <td>Charles Chaplin Productions</td>\n",
       "      <td>Virginia Cherrill, Florence Lee, Harry Myers, ...</td>\n",
       "      <td>8.5</td>\n",
       "      <td>152716</td>\n",
       "      <td>$19,181.00</td>\n",
       "      <td>$316,873.91</td>\n",
       "    </tr>\n",
       "    <tr>\n",
       "      <th>4</th>\n",
       "      <td>4</td>\n",
       "      <td>tt0027977</td>\n",
       "      <td>Modern Times</td>\n",
       "      <td>1936</td>\n",
       "      <td>1936-10-16</td>\n",
       "      <td>Comedy, Drama, Family</td>\n",
       "      <td>87</td>\n",
       "      <td>USA</td>\n",
       "      <td>English</td>\n",
       "      <td>Charles Chaplin</td>\n",
       "      <td>Charles Chaplin</td>\n",
       "      <td>Charles Chaplin Productions</td>\n",
       "      <td>Charles Chaplin, Paulette Goddard, Henry Bergm...</td>\n",
       "      <td>8.5</td>\n",
       "      <td>197969</td>\n",
       "      <td>$163,577.00</td>\n",
       "      <td>$2,955,059.69</td>\n",
       "    </tr>\n",
       "  </tbody>\n",
       "</table>\n",
       "</div>"
      ],
      "text/plain": [
       "   Unnamed: 0    IMDB ID                                Title  Year  \\\n",
       "0           0  tt0012190  The Four Horsemen of the Apocalypse  1921   \n",
       "1           1  tt0017136                           Metropolis  1927   \n",
       "2           2  tt0017354                        The Sea Beast  1926   \n",
       "3           3  tt0021749                          City Lights  1931   \n",
       "4           4  tt0027977                         Modern Times  1936   \n",
       "\n",
       "  Date Published                       Genre  Duration  Country Language  \\\n",
       "0     1923-01-08         Drama, Romance, War       150      USA     None   \n",
       "1     1927-02-06               Drama, Sci-Fi       153  Germany   German   \n",
       "2     1926-01-15  Action, Adventure, Fantasy       136      USA  English   \n",
       "3     1931-08-21      Comedy, Drama, Romance        87      USA  English   \n",
       "4     1936-10-16       Comedy, Drama, Family        87      USA  English   \n",
       "\n",
       "          Director                              Writer  \\\n",
       "0       Rex Ingram  Vicente Blasco Ibáñez, June Mathis   \n",
       "1       Fritz Lang    Thea von Harbou, Thea von Harbou   \n",
       "2     Millard Webb      Herman Melville, Bess Meredyth   \n",
       "3  Charles Chaplin                     Charles Chaplin   \n",
       "4  Charles Chaplin                     Charles Chaplin   \n",
       "\n",
       "            Production Company  \\\n",
       "0   Metro Pictures Corporation   \n",
       "1         Universum Film (UFA)   \n",
       "2                 Warner Bros.   \n",
       "3  Charles Chaplin Productions   \n",
       "4  Charles Chaplin Productions   \n",
       "\n",
       "                                              Actors  Avg Rating  \\\n",
       "0  Pomeroy Cannon, Josef Swickard, Bridgetta Clar...         7.2   \n",
       "1  Alfred Abel, Gustav Fröhlich, Rudolf Klein-Rog...         8.3   \n",
       "2  John Barrymore, Dolores Costello, George O'Har...         6.5   \n",
       "3  Virginia Cherrill, Florence Lee, Harry Myers, ...         8.5   \n",
       "4  Charles Chaplin, Paulette Goddard, Henry Bergm...         8.5   \n",
       "\n",
       "   # of Ratings Lifetime_Gross Lifetime Gross - Adjusted ($)  \n",
       "0          2935  $9,183,673.00               $128,831,540.56  \n",
       "1        148396  $1,236,166.00                $17,839,651.48  \n",
       "2           126    $814,000.00                $11,548,084.63  \n",
       "3        152716     $19,181.00                   $316,873.91  \n",
       "4        197969    $163,577.00                 $2,955,059.69  "
      ]
     },
     "execution_count": 5,
     "metadata": {},
     "output_type": "execute_result"
    }
   ],
   "source": [
    "# read CSV file\n",
    "data = pd.read_csv(\"Data/data_cleaning.csv\")\n",
    "data.head()"
   ]
  },
  {
   "cell_type": "code",
   "execution_count": 12,
   "metadata": {},
   "outputs": [],
   "source": [
    "#lifetime_gross = data(\"Lifetime Gross - Adjusted ($)\")\n",
    "data['Lifetime Gross - Adjusted ($)'] = data['Lifetime Gross - Adjusted ($)'].astype(str)\n",
    "data['Lifetime Gross - Adjusted ($)'] = data['Lifetime Gross - Adjusted ($)'].str.replace('$','')\n",
    "data['Lifetime Gross - Adjusted ($)'] = data['Lifetime Gross - Adjusted ($)'].str.replace(',','')\n",
    "data['Lifetime Gross - Adjusted ($)'] = data['Lifetime Gross - Adjusted ($)'].astype(float)"
   ]
  },
  {
   "cell_type": "code",
   "execution_count": 14,
   "metadata": {},
   "outputs": [
    {
     "data": {
      "image/png": "[encoded data removed]",
      "text/plain": [
       "<Figure size 432x288 with 1 Axes>"
      ]
     },
     "metadata": {
      "needs_background": "light"
     },
     "output_type": "display_data"
    },
    {
     "data": {
      "text/plain": [
       "<Figure size 432x288 with 0 Axes>"
      ]
     },
     "metadata": {},
     "output_type": "display_data"
    }
   ],
   "source": [
    "x=data[\"Duration\"]\n",
    "y=data[\"Lifetime Gross - Adjusted ($)\"]\n",
    "\n",
    "# Title/labels\n",
    "plt.title(\"Run time vs Financials\")\n",
    "plt.xlabel(\"Run Times\")\n",
    "plt.ylabel(\"Gross Finacials\")\n",
    "\n",
    "# Plot scatter plot \n",
    "plt.scatter(x,y)\n",
    "\n",
    "plt.show()\n",
    "\n",
    "# Save .png\n",
    "plt.savefig(\"Images/Duration_vs_financials.png\")"
   ]
  },
  {
   "cell_type": "code",
   "execution_count": 16,
   "metadata": {},
   "outputs": [
    {
     "data": {
      "text/plain": [
       "array([[1.        , 0.19629541],\n",
       "       [0.19629541, 1.        ]])"
      ]
     },
     "execution_count": 16,
     "metadata": {},
     "output_type": "execute_result"
    }
   ],
   "source": [
    "#correlation\n",
    "np.corrcoef(x,y)"
   ]
  },
  {
   "cell_type": "code",
   "execution_count": null,
   "metadata": {},
   "outputs": [],
   "source": []
  }
 ],
 "metadata": {
  "kernelspec": {
   "display_name": "Python 3",
   "language": "python",
   "name": "python3"
  },
  "language_info": {
   "codemirror_mode": {
    "name": "ipython",
    "version": 3
   },
   "file_extension": ".py",
   "mimetype": "text/x-python",
   "name": "python",
   "nbconvert_exporter": "python",
   "pygments_lexer": "ipython3",
   "version": "3.7.6"
  }
 },
 "nbformat": 4,
 "nbformat_minor": 4
}
