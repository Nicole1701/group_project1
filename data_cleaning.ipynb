{
 "cells": [
  {
   "cell_type": "code",
   "execution_count": 1,
   "metadata": {},
   "outputs": [
    {
     "ename": "ModuleNotFoundError",
     "evalue": "No module named 'cpi'",
     "output_type": "error",
     "traceback": [
      "\u001b[1;31m---------------------------------------------------------------------------\u001b[0m",
      "\u001b[1;31mModuleNotFoundError\u001b[0m                       Traceback (most recent call last)",
      "\u001b[1;32m<ipython-input-1-ab57200ee110>\u001b[0m in \u001b[0;36m<module>\u001b[1;34m\u001b[0m\n\u001b[0;32m      5\u001b[0m \u001b[1;32mfrom\u001b[0m \u001b[0mscipy\u001b[0m \u001b[1;32mimport\u001b[0m \u001b[0mstats\u001b[0m\u001b[1;33m\u001b[0m\u001b[1;33m\u001b[0m\u001b[0m\n\u001b[0;32m      6\u001b[0m \u001b[1;32mfrom\u001b[0m \u001b[0mscipy\u001b[0m\u001b[1;33m.\u001b[0m\u001b[0mstats\u001b[0m \u001b[1;32mimport\u001b[0m \u001b[0mlinregress\u001b[0m\u001b[1;33m\u001b[0m\u001b[1;33m\u001b[0m\u001b[0m\n\u001b[1;32m----> 7\u001b[1;33m \u001b[1;32mimport\u001b[0m \u001b[0mcpi\u001b[0m\u001b[1;33m\u001b[0m\u001b[1;33m\u001b[0m\u001b[0m\n\u001b[0m\u001b[0;32m      8\u001b[0m \u001b[0mcpi\u001b[0m\u001b[1;33m.\u001b[0m\u001b[0mupdate\u001b[0m\u001b[1;33m(\u001b[0m\u001b[1;33m)\u001b[0m\u001b[1;33m\u001b[0m\u001b[1;33m\u001b[0m\u001b[0m\n",
      "\u001b[1;31mModuleNotFoundError\u001b[0m: No module named 'cpi'"
     ]
    }
   ],
   "source": [
    "# Dependencies and Setup\n",
    "import matplotlib.pyplot as plt\n",
    "import pandas as pd\n",
    "import numpy as np\n",
    "from scipy import stats\n",
    "from scipy.stats import linregress\n",
    "import cpi\n",
    "cpi.update()"
   ]
  },
  {
   "cell_type": "code",
   "execution_count": null,
   "metadata": {},
   "outputs": [],
   "source": [
    "# CSV Path\n",
    "imdb_movies_csv = \"Data/imdb_movies.csv\"\n",
    "box_office_csv = \"Data/boxoffice.csv\""
   ]
  },
  {
   "cell_type": "code",
   "execution_count": null,
   "metadata": {
    "scrolled": true
   },
   "outputs": [],
   "source": [
    "# Variables for the seperate data frames \n",
    "imdb_df = pd.read_csv(imdb_movies_csv)\n",
    "box_office_df = pd.read_csv(box_office_csv)"
   ]
  },
  {
   "cell_type": "code",
   "execution_count": null,
   "metadata": {},
   "outputs": [],
   "source": [
    "# Removing columns I do not need\n",
    "col_imdb_df = imdb_df[['imdb_title_id', 'original_title', 'year', 'date_published', 'genre', 'duration', 'country', \n",
    "                         'language', 'director', 'writer', 'production_company', 'actors', 'avg_vote', 'votes']]\n",
    "\n",
    "col_box_office_df = box_office_df[['title', 'lifetime_gross', 'year']]\n"
   ]
  },
  {
   "cell_type": "code",
   "execution_count": null,
   "metadata": {},
   "outputs": [],
   "source": [
    "# Renaming columns to be more uniform\n",
    "col_imdb_df = col_imdb_df.rename(columns={'imdb_title_id': \"IMDB ID\", 'original_title': 'Title', 'year': 'Year', \n",
    "                                          'date_published': 'Date Published', 'genre': 'Genre', 'duration': 'Duration',\n",
    "                                         'country': 'Country', 'language': 'Language', 'director': 'Director', 'writer': 'Writer',\n",
    "                                         'production_company': 'Production Company', 'actors': 'Actors', 'avg_vote': 'Avg Rating',\n",
    "                                          'votes': '# of Ratings'})\n",
    "\n",
    "col_box_office_df = col_box_office_df.rename(columns={'title': 'Title', 'lifetime_gross': 'Lifetime_Gross', 'year': 'Year'})"
   ]
  },
  {
   "cell_type": "code",
   "execution_count": null,
   "metadata": {},
   "outputs": [],
   "source": [
    "# Merging data frames\n",
    "movie_data = pd.merge(col_imdb_df, col_box_office_df, on=['Title', 'Year'], how='inner')\n",
    "\n",
    "# Dropping data that is not available through CPI\n",
    "movie_data.drop(movie_data[movie_data['Year'] == 1912 ].index , inplace=True)\n",
    "movie_data.drop(movie_data[movie_data['Year'] == 2019 ].index , inplace=True)\n",
    "movie_data.drop(movie_data[movie_data['Year'] == 2020 ].index , inplace=True)"
   ]
  },
  {
   "cell_type": "code",
   "execution_count": null,
   "metadata": {},
   "outputs": [],
   "source": [
    "# Sort IMDB ID\n",
    "movie_data.sort_values(\"IMDB ID\", inplace = True)\n",
    "\n",
    "# Drop duplicate IMDB ID\n",
    "movie_data.drop_duplicates(subset =\"IMDB ID\", keep = False, inplace = True)"
   ]
  },
  {
   "cell_type": "code",
   "execution_count": null,
   "metadata": {},
   "outputs": [],
   "source": [
    "# Calculating inflation through CPI library \n",
    "# Source: https://medium.com/analytics-vidhya/adjusting-for-inflation-when-analysing-historical-data-with-python-9d69a8dcbc27\n",
    "def inflate_column(data, column):\n",
    "    \n",
    "    return data.apply(lambda x: cpi.inflate(x[column], x.Year), axis=1)          \n",
    "    \n",
    "movie_data['Lifetime Gross - Adjusted ($)'] = inflate_column(movie_data, 'Lifetime_Gross')"
   ]
  },
  {
   "cell_type": "code",
   "execution_count": null,
   "metadata": {},
   "outputs": [],
   "source": [
    "# Converting scientific notation\n",
    "movie_data[\"Lifetime Gross - Adjusted ($)\"].describe().apply(lambda x: format(x, 'f'))\n",
    "pd.options.display.float_format = '{:,.2f}'.format\n",
    "\n",
    "# Formatting columns\n",
    "movie_data['Lifetime_Gross'] = movie_data['Lifetime_Gross'].astype(float).map(\"${:,.2f}\".format)\n",
    "movie_data['Lifetime Gross - Adjusted ($)'] = movie_data['Lifetime Gross - Adjusted ($)'].astype(float).map(\"${:,.2f}\".format)"
   ]
  },
  {
   "cell_type": "code",
   "execution_count": null,
   "metadata": {},
   "outputs": [],
   "source": [
    "movie_data.head()"
   ]
  },
  {
   "cell_type": "code",
   "execution_count": null,
   "metadata": {},
   "outputs": [],
   "source": [
    "# Pushing the cleaned DF to a CSV file\n",
    "movie_data.to_csv(\"Data/data_cleaning.csv\")\n"
   ]
  },
  {
   "cell_type": "code",
   "execution_count": null,
   "metadata": {},
   "outputs": [],
   "source": []
  }
 ],
 "metadata": {
  "kernelspec": {
   "display_name": "Python 3",
   "language": "python",
   "name": "python3"
  },
  "language_info": {
   "codemirror_mode": {
    "name": "ipython",
    "version": 3
   },
   "file_extension": ".py",
   "mimetype": "text/x-python",
   "name": "python",
   "nbconvert_exporter": "python",
   "pygments_lexer": "ipython3",
   "version": "3.7.6"
  }
 },
 "nbformat": 4,
 "nbformat_minor": 4
}
