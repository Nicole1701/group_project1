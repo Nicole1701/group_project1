{
 "cells": [
  {
   "cell_type": "code",
   "execution_count": 85,
   "metadata": {},
   "outputs": [],
   "source": [
    "# Dependencies and Setup\n",
    "import matplotlib.pyplot as plt\n",
    "import pandas as pd\n",
    "import numpy as np\n",
    "from scipy import stats\n",
    "from scipy.stats import linregress\n",
    "import cpi\n",
    "cpi.update()"
   ]
  },
  {
   "cell_type": "code",
   "execution_count": 86,
   "metadata": {},
   "outputs": [],
   "source": [
    "# CSV Path\n",
    "imdb_movies_csv = \"Data/imdb_movies.csv\"\n",
    "box_office_csv = \"Data/boxoffice.csv\""
   ]
  },
  {
   "cell_type": "code",
   "execution_count": 87,
   "metadata": {
    "scrolled": true
   },
   "outputs": [],
   "source": [
    "# Variables for the seperate data frames \n",
    "imdb_df = pd.read_csv(imdb_movies_csv)\n",
    "box_office_df = pd.read_csv(box_office_csv)"
   ]
  },
  {
   "cell_type": "code",
   "execution_count": 88,
   "metadata": {},
   "outputs": [],
   "source": [
    "# Removing columns I do not need\n",
    "col_imdb_df = imdb_df[['imdb_title_id', 'original_title', 'year', 'date_published', 'genre', 'duration', 'country', \n",
    "                         'language', 'director', 'writer', 'production_company', 'actors', 'avg_vote', 'votes']]\n",
    "\n",
    "col_box_office_df = box_office_df[['title', 'lifetime_gross', 'year']]\n"
   ]
  },
  {
   "cell_type": "code",
   "execution_count": 89,
   "metadata": {},
   "outputs": [],
   "source": [
    "# Renaming columns to be more uniform\n",
    "col_imdb_df = col_imdb_df.rename(columns={'imdb_title_id': \"IMDB ID\", 'original_title': 'Title', 'year': 'Year', \n",
    "                                          'date_published': 'Date Published', 'genre': 'Genre', 'duration': 'Duration',\n",
    "                                         'country': 'Country', 'language': 'Language', 'director': 'Director', 'writer': 'Writer',\n",
    "                                         'production_company': 'Production Company', 'actors': 'Actors', 'avg_vote': 'Avg Rating',\n",
    "                                          'votes': '# of Ratings'})\n",
    "\n",
    "col_box_office_df = col_box_office_df.rename(columns={'title': 'Title', 'lifetime_gross': 'Lifetime_Gross', 'year': 'Year'})"
   ]
  },
  {
   "cell_type": "code",
   "execution_count": 90,
   "metadata": {},
   "outputs": [],
   "source": [
    "# Merging data frames\n",
    "movie_data = pd.merge(col_imdb_df, col_box_office_df, on=['Title', 'Year'], how='inner')\n",
    "\n",
    "# Dropping data that is not available through CPI\n",
    "movie_data.drop(movie_data[movie_data['Year'] == 1912 ].index , inplace=True)\n",
    "movie_data.drop(movie_data[movie_data['Year'] == 2019 ].index , inplace=True)\n",
    "movie_data.drop(movie_data[movie_data['Year'] == 2020 ].index , inplace=True)"
   ]
  },
  {
   "cell_type": "code",
   "execution_count": 91,
   "metadata": {},
   "outputs": [],
   "source": [
    "# Sort IMDB ID\n",
    "movie_data.sort_values(\"IMDB ID\", inplace = True)\n",
    "\n",
    "# Drop duplicate IMDB ID\n",
    "movie_data.drop_duplicates(subset =\"IMDB ID\", keep = False, inplace = True)"
   ]
  },
  {
   "cell_type": "code",
   "execution_count": 92,
   "metadata": {},
   "outputs": [],
   "source": [
    "# Calculating inflation through CPI library \n",
    "# Source: https://medium.com/analytics-vidhya/adjusting-for-inflation-when-analysing-historical-data-with-python-9d69a8dcbc27\n",
    "def inflate_column(data, column):\n",
    "    \n",
    "    return data.apply(lambda x: cpi.inflate(x[column], x.Year), axis=1)          \n",
    "    \n",
    "movie_data['Lifetime Gross - Adjusted ($)'] = inflate_column(movie_data, 'Lifetime_Gross')"
   ]
  },
  {
   "cell_type": "code",
   "execution_count": 93,
   "metadata": {},
   "outputs": [],
   "source": [
    "# Converting scientific notation\n",
    "movie_data[\"Lifetime Gross - Adjusted ($)\"].describe().apply(lambda x: format(x, 'f'))\n",
    "pd.options.display.float_format = '{:,.2f}'.format\n",
    "\n",
    "# Formatting columns\n",
    "movie_data['Lifetime_Gross'] = movie_data['Lifetime_Gross'].astype(float).map(\"${:,.2f}\".format)\n",
    "movie_data['Lifetime Gross - Adjusted ($)'] = movie_data['Lifetime Gross - Adjusted ($)'].astype(float).map(\"${:,.2f}\".format)"
   ]
  },
  {
   "cell_type": "code",
   "execution_count": 95,
   "metadata": {},
   "outputs": [
    {
     "data": {
      "text/html": [
       "<div>\n",
       "<style scoped>\n",
       "    .dataframe tbody tr th:only-of-type {\n",
       "        vertical-align: middle;\n",
       "    }\n",
       "\n",
       "    .dataframe tbody tr th {\n",
       "        vertical-align: top;\n",
       "    }\n",
       "\n",
       "    .dataframe thead th {\n",
       "        text-align: right;\n",
       "    }\n",
       "</style>\n",
       "<table border=\"1\" class=\"dataframe\">\n",
       "  <thead>\n",
       "    <tr style=\"text-align: right;\">\n",
       "      <th></th>\n",
       "      <th>IMDB ID</th>\n",
       "      <th>Title</th>\n",
       "      <th>Year</th>\n",
       "      <th>Date Published</th>\n",
       "      <th>Genre</th>\n",
       "      <th>Duration</th>\n",
       "      <th>Country</th>\n",
       "      <th>Language</th>\n",
       "      <th>Director</th>\n",
       "      <th>Writer</th>\n",
       "      <th>Production Company</th>\n",
       "      <th>Actors</th>\n",
       "      <th>Avg Rating</th>\n",
       "      <th># of Ratings</th>\n",
       "      <th>Lifetime_Gross</th>\n",
       "      <th>Lifetime Gross - Adjusted ($)</th>\n",
       "    </tr>\n",
       "  </thead>\n",
       "  <tbody>\n",
       "    <tr>\n",
       "      <th>0</th>\n",
       "      <td>tt0012190</td>\n",
       "      <td>The Four Horsemen of the Apocalypse</td>\n",
       "      <td>1921</td>\n",
       "      <td>1923-01-08</td>\n",
       "      <td>Drama, Romance, War</td>\n",
       "      <td>150</td>\n",
       "      <td>USA</td>\n",
       "      <td>None</td>\n",
       "      <td>Rex Ingram</td>\n",
       "      <td>Vicente Blasco Ibáñez, June Mathis</td>\n",
       "      <td>Metro Pictures Corporation</td>\n",
       "      <td>Pomeroy Cannon, Josef Swickard, Bridgetta Clar...</td>\n",
       "      <td>7.20</td>\n",
       "      <td>2935</td>\n",
       "      <td>$9,183,673.00</td>\n",
       "      <td>$128,831,540.56</td>\n",
       "    </tr>\n",
       "    <tr>\n",
       "      <th>1</th>\n",
       "      <td>tt0017136</td>\n",
       "      <td>Metropolis</td>\n",
       "      <td>1927</td>\n",
       "      <td>1927-02-06</td>\n",
       "      <td>Drama, Sci-Fi</td>\n",
       "      <td>153</td>\n",
       "      <td>Germany</td>\n",
       "      <td>German</td>\n",
       "      <td>Fritz Lang</td>\n",
       "      <td>Thea von Harbou, Thea von Harbou</td>\n",
       "      <td>Universum Film (UFA)</td>\n",
       "      <td>Alfred Abel, Gustav Fröhlich, Rudolf Klein-Rog...</td>\n",
       "      <td>8.30</td>\n",
       "      <td>148396</td>\n",
       "      <td>$1,236,166.00</td>\n",
       "      <td>$17,839,651.48</td>\n",
       "    </tr>\n",
       "    <tr>\n",
       "      <th>2</th>\n",
       "      <td>tt0017354</td>\n",
       "      <td>The Sea Beast</td>\n",
       "      <td>1926</td>\n",
       "      <td>1926-01-15</td>\n",
       "      <td>Action, Adventure, Fantasy</td>\n",
       "      <td>136</td>\n",
       "      <td>USA</td>\n",
       "      <td>English</td>\n",
       "      <td>Millard Webb</td>\n",
       "      <td>Herman Melville, Bess Meredyth</td>\n",
       "      <td>Warner Bros.</td>\n",
       "      <td>John Barrymore, Dolores Costello, George O'Har...</td>\n",
       "      <td>6.50</td>\n",
       "      <td>126</td>\n",
       "      <td>$814,000.00</td>\n",
       "      <td>$11,548,084.63</td>\n",
       "    </tr>\n",
       "    <tr>\n",
       "      <th>3</th>\n",
       "      <td>tt0021749</td>\n",
       "      <td>City Lights</td>\n",
       "      <td>1931</td>\n",
       "      <td>1931-08-21</td>\n",
       "      <td>Comedy, Drama, Romance</td>\n",
       "      <td>87</td>\n",
       "      <td>USA</td>\n",
       "      <td>English</td>\n",
       "      <td>Charles Chaplin</td>\n",
       "      <td>Charles Chaplin</td>\n",
       "      <td>Charles Chaplin Productions</td>\n",
       "      <td>Virginia Cherrill, Florence Lee, Harry Myers, ...</td>\n",
       "      <td>8.50</td>\n",
       "      <td>152716</td>\n",
       "      <td>$19,181.00</td>\n",
       "      <td>$316,873.91</td>\n",
       "    </tr>\n",
       "    <tr>\n",
       "      <th>4</th>\n",
       "      <td>tt0027977</td>\n",
       "      <td>Modern Times</td>\n",
       "      <td>1936</td>\n",
       "      <td>1936-10-16</td>\n",
       "      <td>Comedy, Drama, Family</td>\n",
       "      <td>87</td>\n",
       "      <td>USA</td>\n",
       "      <td>English</td>\n",
       "      <td>Charles Chaplin</td>\n",
       "      <td>Charles Chaplin</td>\n",
       "      <td>Charles Chaplin Productions</td>\n",
       "      <td>Charles Chaplin, Paulette Goddard, Henry Bergm...</td>\n",
       "      <td>8.50</td>\n",
       "      <td>197969</td>\n",
       "      <td>$163,577.00</td>\n",
       "      <td>$2,955,059.69</td>\n",
       "    </tr>\n",
       "  </tbody>\n",
       "</table>\n",
       "</div>"
      ],
      "text/plain": [
       "     IMDB ID                                Title  Year Date Published  \\\n",
       "0  tt0012190  The Four Horsemen of the Apocalypse  1921     1923-01-08   \n",
       "1  tt0017136                           Metropolis  1927     1927-02-06   \n",
       "2  tt0017354                        The Sea Beast  1926     1926-01-15   \n",
       "3  tt0021749                          City Lights  1931     1931-08-21   \n",
       "4  tt0027977                         Modern Times  1936     1936-10-16   \n",
       "\n",
       "                        Genre  Duration  Country Language         Director  \\\n",
       "0         Drama, Romance, War       150      USA     None       Rex Ingram   \n",
       "1               Drama, Sci-Fi       153  Germany   German       Fritz Lang   \n",
       "2  Action, Adventure, Fantasy       136      USA  English     Millard Webb   \n",
       "3      Comedy, Drama, Romance        87      USA  English  Charles Chaplin   \n",
       "4       Comedy, Drama, Family        87      USA  English  Charles Chaplin   \n",
       "\n",
       "                               Writer           Production Company  \\\n",
       "0  Vicente Blasco Ibáñez, June Mathis   Metro Pictures Corporation   \n",
       "1    Thea von Harbou, Thea von Harbou         Universum Film (UFA)   \n",
       "2      Herman Melville, Bess Meredyth                 Warner Bros.   \n",
       "3                     Charles Chaplin  Charles Chaplin Productions   \n",
       "4                     Charles Chaplin  Charles Chaplin Productions   \n",
       "\n",
       "                                              Actors  Avg Rating  \\\n",
       "0  Pomeroy Cannon, Josef Swickard, Bridgetta Clar...        7.20   \n",
       "1  Alfred Abel, Gustav Fröhlich, Rudolf Klein-Rog...        8.30   \n",
       "2  John Barrymore, Dolores Costello, George O'Har...        6.50   \n",
       "3  Virginia Cherrill, Florence Lee, Harry Myers, ...        8.50   \n",
       "4  Charles Chaplin, Paulette Goddard, Henry Bergm...        8.50   \n",
       "\n",
       "   # of Ratings Lifetime_Gross Lifetime Gross - Adjusted ($)  \n",
       "0          2935  $9,183,673.00               $128,831,540.56  \n",
       "1        148396  $1,236,166.00                $17,839,651.48  \n",
       "2           126    $814,000.00                $11,548,084.63  \n",
       "3        152716     $19,181.00                   $316,873.91  \n",
       "4        197969    $163,577.00                 $2,955,059.69  "
      ]
     },
     "execution_count": 95,
     "metadata": {},
     "output_type": "execute_result"
    }
   ],
   "source": [
    "movie_data.head()"
   ]
  },
  {
   "cell_type": "code",
   "execution_count": 97,
   "metadata": {},
   "outputs": [],
   "source": [
    "# Pushing the cleaned DF to a CSV file\n",
    "movie_data.to_csv(\"Data/data_cleaning.csv\")"
   ]
  },
  {
   "cell_type": "code",
   "execution_count": null,
   "metadata": {},
   "outputs": [],
   "source": []
  }
 ],
 "metadata": {
  "kernelspec": {
   "display_name": "Python 3",
   "language": "python",
   "name": "python3"
  },
  "language_info": {
   "codemirror_mode": {
    "name": "ipython",
    "version": 3
   },
   "file_extension": ".py",
   "mimetype": "text/x-python",
   "name": "python",
   "nbconvert_exporter": "python",
   "pygments_lexer": "ipython3",
   "version": "3.6.10"
  }
 },
 "nbformat": 4,
 "nbformat_minor": 4
}
