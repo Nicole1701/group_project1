{
 "cells": [
  {
   "cell_type": "code",
   "execution_count": null,
   "metadata": {},
   "outputs": [],
   "source": [
    "# Dependencies and Setup\n",
    "import matplotlib.pyplot as plt\n",
    "import pandas as pd\n",
    "import numpy as np\n",
    "#import matplotlib.pyplot as pit \n",
    "#% matplotlib inline\n"
   ]
  },
  {
   "cell_type": "code",
   "execution_count": null,
   "metadata": {
    "scrolled": true
   },
   "outputs": [],
   "source": [
    "# read the CSV file\n",
    "stacked_data = pd.read_csv(\"Data/data_cleaning_stacked.csv\")\n",
    "stacked_data.head()"
   ]
  },
  {
   "cell_type": "code",
   "execution_count": null,
   "metadata": {},
   "outputs": [],
   "source": [
    "stacked_data.shape"
   ]
  },
  {
   "cell_type": "code",
   "execution_count": null,
   "metadata": {},
   "outputs": [],
   "source": [
    "stacked_data.info()"
   ]
  },
  {
   "cell_type": "code",
   "execution_count": null,
   "metadata": {},
   "outputs": [],
   "source": [
    "index_err = stacked_data.query(' Duration  == 0 or Lifetime_Gross == 0 ').index\n",
    "stacked_data.drop(index_err, axis=0, inplace=True)\n",
    "\n",
    "stacked_data.describe()"
   ]
  },
  {
   "cell_type": "code",
   "execution_count": null,
   "metadata": {},
   "outputs": [],
   "source": [
    "# discovering statstics of Lifetime gross\n",
    "stacked_data.Lifetime_Gross.describe()"
   ]
  },
  {
   "cell_type": "code",
   "execution_count": null,
   "metadata": {},
   "outputs": [],
   "source": [
    "stacked_data.Lifetime_Gross.hist();"
   ]
  },
  {
   "cell_type": "code",
   "execution_count": null,
   "metadata": {
    "scrolled": true
   },
   "outputs": [],
   "source": [
    "\n",
    "# Bin data by decade\n",
    "decade_bins = [1919, 1929, 1939, 1949, 1959, 1969, 1979, 1989, 1999, 2009, 2019]\n",
    "decade_names = ['1920-1929', '1930-1939', '1940-1949', '1950-1959', '1960-1969', '1970-1979', '1980-1989', '1990-1999', '2000-2009', '2010-2019']\n",
    "stacked_data['decade'] = pd.cut(stacked_data['Year'], decade_bins, labels= decade_names)\n",
    "stacked_data.head()\n"
   ]
  },
  {
   "cell_type": "code",
   "execution_count": null,
   "metadata": {},
   "outputs": [],
   "source": [
    " ltg_dec.head() "
   ]
  },
  {
   "cell_type": "code",
   "execution_count": null,
   "metadata": {},
   "outputs": [],
   "source": [
    "stacked_data['Lifetime_Gross'] = stacked_data['Lifetime_Gross'].astype(str)\n",
    "stacked_data['Lifetime_Gross'] = stacked_data['Lifetime_Gross'].str.replace('$','')\n",
    "stacked_data['Lifetime_Gross'] = stacked_data['Lifetime_Gross'].str.replace(',','')\n",
    "stacked_data['Lifetime_Gross'] = stacked_data['Lifetime_Gross'].astype(float)\n",
    "\n",
    "\n",
    "Lifetime_Gross = stacked_data['Lifetime_Gross']\n",
    "ltg_dec = stacked_data.groupby('decade').Lifetime_Gross.mean().reset_index()\n",
    "ltg_dec.plot(kind='bar')\n",
    "plt.xticks([0,1,2,3,4,5,6,7,8,9], ltg_dec['decade'], rotation='vertical')\n",
    "# plt.plot(ltg_dec.decade, ltg_dec.Lifetime_Gross)\n",
    "plt.title(\"The comparison of lifetime gross in different decades\")\n",
    "plt.xlabel(\"Decade\")\n",
    "plt.ylabel(\"Lifetime Gross\") \n",
    "plt.show()\n"
   ]
  },
  {
   "cell_type": "code",
   "execution_count": null,
   "metadata": {},
   "outputs": [],
   "source": [
    "stacked_data.decade.describe()"
   ]
  },
  {
   "cell_type": "code",
   "execution_count": null,
   "metadata": {},
   "outputs": [],
   "source": [
    "stacked_data.decade.hist();\n"
   ]
  },
  {
   "cell_type": "code",
   "execution_count": null,
   "metadata": {
    "scrolled": true
   },
   "outputs": [],
   "source": [
    "# Finding high lifetime gross\n",
    "#stacked_data = pd.read_csv(\"Data/data_cleaning_stacked.csv\")\n",
    "\n",
    "Lifetime_Gross = Lifetime_Gross.astype(int)\n",
    "high_ltg = stacked_data.Lifetime_Gross.quantile([.75])\n",
    "high_ltg_df = stacked_data[stacked_data.Lifetime_Gross > high_ltg.iloc[0]]\n",
    "high_ltg_df.Lifetime_Gross.describe()"
   ]
  },
  {
   "cell_type": "code",
   "execution_count": null,
   "metadata": {},
   "outputs": [],
   "source": [
    "# high_ltg.head() \n",
    "high_ltg.iloc[0]"
   ]
  },
  {
   "cell_type": "code",
   "execution_count": null,
   "metadata": {},
   "outputs": [],
   "source": [
    "# Ratings and lifetime gross (scatter plot)\n",
    "plt.scatter(x=high_ltg_df.Duration, y=high_ltg_df.Lifetime_Gross)\n",
    "plt.title('The correlation between Avg Rating and Revenue')\n",
    "plt.xlabel('Avg Rating')\n",
    "plt.ylabel('Revenue')\n",
    "\n",
    "plt.show()"
   ]
  },
  {
   "cell_type": "code",
   "execution_count": null,
   "metadata": {},
   "outputs": [],
   "source": [
    "# Correlation?\n",
    "high_ltg_df = stacked_data[stacked_data.Lifetime_Gross > high_ltg.iloc[0]]\n",
    "corr = high_rev_df[['Duration', 'Lifetime_Gross']].corr()\n",
    "corr.head()"
   ]
  },
  {
   "cell_type": "code",
   "execution_count": null,
   "metadata": {},
   "outputs": [],
   "source": [
    "stacked_data_genres = stacked_data[['Year', 'Genre', 'Avg Rating']]\n",
    "stacked_data_genres.head()"
   ]
  },
  {
   "cell_type": "code",
   "execution_count": null,
   "metadata": {},
   "outputs": [],
   "source": [
    "def func(group):\n",
    "    return group.loc[group['Avg Rating'] == group['Avg Rating'].max()]\n",
    "stacked_data_pop = stacked_data_genres.groupby(['Year', 'Genre'], as_index=False).mean()"
   ]
  },
  {
   "cell_type": "code",
   "execution_count": null,
   "metadata": {},
   "outputs": [],
   "source": [
    "stacked_data_most_pop = stacked_data_pop.groupby('Year', as_index=False).apply(func).reset_index(drop=True)\n",
    "stacked_data_most_pop.head()"
   ]
  },
  {
   "cell_type": "code",
   "execution_count": null,
   "metadata": {},
   "outputs": [],
   "source": [
    "plt.scatter(stacked_data_most_pop.Year, stacked_data_most_pop.Genre)\n",
    "plt.title('The change of the most popular genre over the year')\n",
    "plt.xlabel('Year')\n",
    "plt.ylabel('Genre')\n",
    "\n",
    "plt.show()"
   ]
  },
  {
   "cell_type": "code",
   "execution_count": null,
   "metadata": {},
   "outputs": [],
   "source": [
    "# Draw the pie chart of genres\n",
    "sizes = stacked_data_most_pop.Genre.value_counts().values\n",
    "labels = stacked_data_most_pop.Genre.value_counts().index\n",
    "\n",
    "fig1, ax1 = plt.subplots()\n",
    "ax1.pie(sizes, labels=labels, autopct='%1.1f%%')\n",
    "ax1.axis('equal')\n",
    "plt.title('The percentage of each genre')\n",
    "\n",
    "plt.show()"
   ]
  },
  {
   "cell_type": "code",
   "execution_count": null,
   "metadata": {},
   "outputs": [],
   "source": []
  }
 ],
 "metadata": {
  "kernelspec": {
   "display_name": "Python 3",
   "language": "python",
   "name": "python3"
  },
  "language_info": {
   "codemirror_mode": {
    "name": "ipython",
    "version": 3
   },
   "file_extension": ".py",
   "mimetype": "text/x-python",
   "name": "python",
   "nbconvert_exporter": "python",
   "pygments_lexer": "ipython3",
   "version": "3.7.6"
  }
 },
 "nbformat": 4,
 "nbformat_minor": 4
}
