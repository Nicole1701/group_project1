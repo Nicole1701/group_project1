{
 "cells": [
  {
   "cell_type": "code",
   "execution_count": 1,
   "metadata": {},
   "outputs": [],
   "source": [
    "# Dependencies and Setup\n",
    "import matplotlib.pyplot as plt\n",
    "import pandas as pd\n",
    "import numpy as np\n",
    "#import matplotlib.pyplot as pit \n",
    "#% matplotlib inline\n"
   ]
  },
  {
   "cell_type": "code",
   "execution_count": 2,
   "metadata": {
    "scrolled": true
   },
   "outputs": [
    {
     "data": {
      "text/html": [
       "<div>\n",
       "<style scoped>\n",
       "    .dataframe tbody tr th:only-of-type {\n",
       "        vertical-align: middle;\n",
       "    }\n",
       "\n",
       "    .dataframe tbody tr th {\n",
       "        vertical-align: top;\n",
       "    }\n",
       "\n",
       "    .dataframe thead th {\n",
       "        text-align: right;\n",
       "    }\n",
       "</style>\n",
       "<table border=\"1\" class=\"dataframe\">\n",
       "  <thead>\n",
       "    <tr style=\"text-align: right;\">\n",
       "      <th></th>\n",
       "      <th>Unnamed: 0</th>\n",
       "      <th>IMDB ID</th>\n",
       "      <th>Title</th>\n",
       "      <th>Year</th>\n",
       "      <th>Date Published</th>\n",
       "      <th>Genre</th>\n",
       "      <th>Duration</th>\n",
       "      <th>Country</th>\n",
       "      <th>Language</th>\n",
       "      <th>Director</th>\n",
       "      <th>Writer</th>\n",
       "      <th>Production Company</th>\n",
       "      <th>Actors</th>\n",
       "      <th>Avg Rating</th>\n",
       "      <th># of Ratings</th>\n",
       "      <th>Lifetime_Gross</th>\n",
       "      <th>Lifetime Gross - Adjusted ($)</th>\n",
       "    </tr>\n",
       "  </thead>\n",
       "  <tbody>\n",
       "    <tr>\n",
       "      <th>0</th>\n",
       "      <td>0</td>\n",
       "      <td>tt0012190</td>\n",
       "      <td>The Four Horsemen of the Apocalypse</td>\n",
       "      <td>1921</td>\n",
       "      <td>1923-01-08</td>\n",
       "      <td>Drama, Romance, War</td>\n",
       "      <td>150</td>\n",
       "      <td>USA</td>\n",
       "      <td>None</td>\n",
       "      <td>Rex Ingram</td>\n",
       "      <td>Vicente Blasco Ibáñez, June Mathis</td>\n",
       "      <td>Metro Pictures Corporation</td>\n",
       "      <td>Pomeroy Cannon, Josef Swickard, Bridgetta Clar...</td>\n",
       "      <td>7.2</td>\n",
       "      <td>2935</td>\n",
       "      <td>$9,183,673.00</td>\n",
       "      <td>$128,831,540.56</td>\n",
       "    </tr>\n",
       "    <tr>\n",
       "      <th>1</th>\n",
       "      <td>1</td>\n",
       "      <td>tt0017136</td>\n",
       "      <td>Metropolis</td>\n",
       "      <td>1927</td>\n",
       "      <td>1927-02-06</td>\n",
       "      <td>Drama, Sci-Fi</td>\n",
       "      <td>153</td>\n",
       "      <td>Germany</td>\n",
       "      <td>German</td>\n",
       "      <td>Fritz Lang</td>\n",
       "      <td>Thea von Harbou, Thea von Harbou</td>\n",
       "      <td>Universum Film (UFA)</td>\n",
       "      <td>Alfred Abel, Gustav Fröhlich, Rudolf Klein-Rog...</td>\n",
       "      <td>8.3</td>\n",
       "      <td>148396</td>\n",
       "      <td>$1,236,166.00</td>\n",
       "      <td>$17,839,651.48</td>\n",
       "    </tr>\n",
       "    <tr>\n",
       "      <th>2</th>\n",
       "      <td>2</td>\n",
       "      <td>tt0017354</td>\n",
       "      <td>The Sea Beast</td>\n",
       "      <td>1926</td>\n",
       "      <td>1926-01-15</td>\n",
       "      <td>Action, Adventure, Fantasy</td>\n",
       "      <td>136</td>\n",
       "      <td>USA</td>\n",
       "      <td>English</td>\n",
       "      <td>Millard Webb</td>\n",
       "      <td>Herman Melville, Bess Meredyth</td>\n",
       "      <td>Warner Bros.</td>\n",
       "      <td>John Barrymore, Dolores Costello, George O'Har...</td>\n",
       "      <td>6.5</td>\n",
       "      <td>126</td>\n",
       "      <td>$814,000.00</td>\n",
       "      <td>$11,548,084.63</td>\n",
       "    </tr>\n",
       "    <tr>\n",
       "      <th>3</th>\n",
       "      <td>3</td>\n",
       "      <td>tt0021749</td>\n",
       "      <td>City Lights</td>\n",
       "      <td>1931</td>\n",
       "      <td>1931-08-21</td>\n",
       "      <td>Comedy, Drama, Romance</td>\n",
       "      <td>87</td>\n",
       "      <td>USA</td>\n",
       "      <td>English</td>\n",
       "      <td>Charles Chaplin</td>\n",
       "      <td>Charles Chaplin</td>\n",
       "      <td>Charles Chaplin Productions</td>\n",
       "      <td>Virginia Cherrill, Florence Lee, Harry Myers, ...</td>\n",
       "      <td>8.5</td>\n",
       "      <td>152716</td>\n",
       "      <td>$19,181.00</td>\n",
       "      <td>$316,873.91</td>\n",
       "    </tr>\n",
       "    <tr>\n",
       "      <th>4</th>\n",
       "      <td>4</td>\n",
       "      <td>tt0027977</td>\n",
       "      <td>Modern Times</td>\n",
       "      <td>1936</td>\n",
       "      <td>1936-10-16</td>\n",
       "      <td>Comedy, Drama, Family</td>\n",
       "      <td>87</td>\n",
       "      <td>USA</td>\n",
       "      <td>English</td>\n",
       "      <td>Charles Chaplin</td>\n",
       "      <td>Charles Chaplin</td>\n",
       "      <td>Charles Chaplin Productions</td>\n",
       "      <td>Charles Chaplin, Paulette Goddard, Henry Bergm...</td>\n",
       "      <td>8.5</td>\n",
       "      <td>197969</td>\n",
       "      <td>$163,577.00</td>\n",
       "      <td>$2,955,059.69</td>\n",
       "    </tr>\n",
       "  </tbody>\n",
       "</table>\n",
       "</div>"
      ],
      "text/plain": [
       "   Unnamed: 0    IMDB ID                                Title  Year  \\\n",
       "0           0  tt0012190  The Four Horsemen of the Apocalypse  1921   \n",
       "1           1  tt0017136                           Metropolis  1927   \n",
       "2           2  tt0017354                        The Sea Beast  1926   \n",
       "3           3  tt0021749                          City Lights  1931   \n",
       "4           4  tt0027977                         Modern Times  1936   \n",
       "\n",
       "  Date Published                       Genre  Duration  Country Language  \\\n",
       "0     1923-01-08         Drama, Romance, War       150      USA     None   \n",
       "1     1927-02-06               Drama, Sci-Fi       153  Germany   German   \n",
       "2     1926-01-15  Action, Adventure, Fantasy       136      USA  English   \n",
       "3     1931-08-21      Comedy, Drama, Romance        87      USA  English   \n",
       "4     1936-10-16       Comedy, Drama, Family        87      USA  English   \n",
       "\n",
       "          Director                              Writer  \\\n",
       "0       Rex Ingram  Vicente Blasco Ibáñez, June Mathis   \n",
       "1       Fritz Lang    Thea von Harbou, Thea von Harbou   \n",
       "2     Millard Webb      Herman Melville, Bess Meredyth   \n",
       "3  Charles Chaplin                     Charles Chaplin   \n",
       "4  Charles Chaplin                     Charles Chaplin   \n",
       "\n",
       "            Production Company  \\\n",
       "0   Metro Pictures Corporation   \n",
       "1         Universum Film (UFA)   \n",
       "2                 Warner Bros.   \n",
       "3  Charles Chaplin Productions   \n",
       "4  Charles Chaplin Productions   \n",
       "\n",
       "                                              Actors  Avg Rating  \\\n",
       "0  Pomeroy Cannon, Josef Swickard, Bridgetta Clar...         7.2   \n",
       "1  Alfred Abel, Gustav Fröhlich, Rudolf Klein-Rog...         8.3   \n",
       "2  John Barrymore, Dolores Costello, George O'Har...         6.5   \n",
       "3  Virginia Cherrill, Florence Lee, Harry Myers, ...         8.5   \n",
       "4  Charles Chaplin, Paulette Goddard, Henry Bergm...         8.5   \n",
       "\n",
       "   # of Ratings Lifetime_Gross Lifetime Gross - Adjusted ($)  \n",
       "0          2935  $9,183,673.00               $128,831,540.56  \n",
       "1        148396  $1,236,166.00                $17,839,651.48  \n",
       "2           126    $814,000.00                $11,548,084.63  \n",
       "3        152716     $19,181.00                   $316,873.91  \n",
       "4        197969    $163,577.00                 $2,955,059.69  "
      ]
     },
     "execution_count": 2,
     "metadata": {},
     "output_type": "execute_result"
    }
   ],
   "source": [
    "# read the CSV file\n",
    "stacked_data = pd.read_csv(\"Data/data_cleaning.csv\")\n",
    "stacked_data.head()"
   ]
  },
  {
   "cell_type": "code",
   "execution_count": 3,
   "metadata": {},
   "outputs": [
    {
     "data": {
      "text/plain": [
       "(7665, 17)"
      ]
     },
     "execution_count": 3,
     "metadata": {},
     "output_type": "execute_result"
    }
   ],
   "source": [
    "stacked_data.shape"
   ]
  },
  {
   "cell_type": "code",
   "execution_count": 4,
   "metadata": {},
   "outputs": [
    {
     "name": "stdout",
     "output_type": "stream",
     "text": [
      "<class 'pandas.core.frame.DataFrame'>\n",
      "RangeIndex: 7665 entries, 0 to 7664\n",
      "Data columns (total 17 columns):\n",
      " #   Column                         Non-Null Count  Dtype  \n",
      "---  ------                         --------------  -----  \n",
      " 0   Unnamed: 0                     7665 non-null   int64  \n",
      " 1   IMDB ID                        7665 non-null   object \n",
      " 2   Title                          7665 non-null   object \n",
      " 3   Year                           7665 non-null   int64  \n",
      " 4   Date Published                 7665 non-null   object \n",
      " 5   Genre                          7665 non-null   object \n",
      " 6   Duration                       7665 non-null   int64  \n",
      " 7   Country                        7665 non-null   object \n",
      " 8   Language                       7653 non-null   object \n",
      " 9   Director                       7664 non-null   object \n",
      " 10  Writer                         7653 non-null   object \n",
      " 11  Production Company             7602 non-null   object \n",
      " 12  Actors                         7664 non-null   object \n",
      " 13  Avg Rating                     7665 non-null   float64\n",
      " 14  # of Ratings                   7665 non-null   int64  \n",
      " 15  Lifetime_Gross                 7665 non-null   object \n",
      " 16  Lifetime Gross - Adjusted ($)  7665 non-null   object \n",
      "dtypes: float64(1), int64(4), object(12)\n",
      "memory usage: 1018.1+ KB\n"
     ]
    }
   ],
   "source": [
    "stacked_data.info()"
   ]
  },
  {
   "cell_type": "code",
   "execution_count": 5,
   "metadata": {},
   "outputs": [
    {
     "data": {
      "text/html": [
       "<div>\n",
       "<style scoped>\n",
       "    .dataframe tbody tr th:only-of-type {\n",
       "        vertical-align: middle;\n",
       "    }\n",
       "\n",
       "    .dataframe tbody tr th {\n",
       "        vertical-align: top;\n",
       "    }\n",
       "\n",
       "    .dataframe thead th {\n",
       "        text-align: right;\n",
       "    }\n",
       "</style>\n",
       "<table border=\"1\" class=\"dataframe\">\n",
       "  <thead>\n",
       "    <tr style=\"text-align: right;\">\n",
       "      <th></th>\n",
       "      <th>Unnamed: 0</th>\n",
       "      <th>Year</th>\n",
       "      <th>Duration</th>\n",
       "      <th>Avg Rating</th>\n",
       "      <th># of Ratings</th>\n",
       "    </tr>\n",
       "  </thead>\n",
       "  <tbody>\n",
       "    <tr>\n",
       "      <th>count</th>\n",
       "      <td>7665.000000</td>\n",
       "      <td>7665.000000</td>\n",
       "      <td>7665.000000</td>\n",
       "      <td>7665.000000</td>\n",
       "      <td>7.665000e+03</td>\n",
       "    </tr>\n",
       "    <tr>\n",
       "      <th>mean</th>\n",
       "      <td>3835.557991</td>\n",
       "      <td>2000.202740</td>\n",
       "      <td>107.229354</td>\n",
       "      <td>6.188206</td>\n",
       "      <td>6.738624e+04</td>\n",
       "    </tr>\n",
       "    <tr>\n",
       "      <th>std</th>\n",
       "      <td>2217.911943</td>\n",
       "      <td>12.211124</td>\n",
       "      <td>19.763617</td>\n",
       "      <td>1.039678</td>\n",
       "      <td>1.420215e+05</td>\n",
       "    </tr>\n",
       "    <tr>\n",
       "      <th>min</th>\n",
       "      <td>0.000000</td>\n",
       "      <td>1921.000000</td>\n",
       "      <td>63.000000</td>\n",
       "      <td>1.100000</td>\n",
       "      <td>1.000000e+02</td>\n",
       "    </tr>\n",
       "    <tr>\n",
       "      <th>25%</th>\n",
       "      <td>1916.000000</td>\n",
       "      <td>1991.000000</td>\n",
       "      <td>94.000000</td>\n",
       "      <td>5.600000</td>\n",
       "      <td>3.805000e+03</td>\n",
       "    </tr>\n",
       "    <tr>\n",
       "      <th>50%</th>\n",
       "      <td>3832.000000</td>\n",
       "      <td>2002.000000</td>\n",
       "      <td>103.000000</td>\n",
       "      <td>6.300000</td>\n",
       "      <td>1.650900e+04</td>\n",
       "    </tr>\n",
       "    <tr>\n",
       "      <th>75%</th>\n",
       "      <td>5751.000000</td>\n",
       "      <td>2010.000000</td>\n",
       "      <td>116.000000</td>\n",
       "      <td>6.900000</td>\n",
       "      <td>6.730700e+04</td>\n",
       "    </tr>\n",
       "    <tr>\n",
       "      <th>max</th>\n",
       "      <td>7745.000000</td>\n",
       "      <td>2018.000000</td>\n",
       "      <td>398.000000</td>\n",
       "      <td>9.300000</td>\n",
       "      <td>2.159628e+06</td>\n",
       "    </tr>\n",
       "  </tbody>\n",
       "</table>\n",
       "</div>"
      ],
      "text/plain": [
       "        Unnamed: 0         Year     Duration   Avg Rating  # of Ratings\n",
       "count  7665.000000  7665.000000  7665.000000  7665.000000  7.665000e+03\n",
       "mean   3835.557991  2000.202740   107.229354     6.188206  6.738624e+04\n",
       "std    2217.911943    12.211124    19.763617     1.039678  1.420215e+05\n",
       "min       0.000000  1921.000000    63.000000     1.100000  1.000000e+02\n",
       "25%    1916.000000  1991.000000    94.000000     5.600000  3.805000e+03\n",
       "50%    3832.000000  2002.000000   103.000000     6.300000  1.650900e+04\n",
       "75%    5751.000000  2010.000000   116.000000     6.900000  6.730700e+04\n",
       "max    7745.000000  2018.000000   398.000000     9.300000  2.159628e+06"
      ]
     },
     "execution_count": 5,
     "metadata": {},
     "output_type": "execute_result"
    }
   ],
   "source": [
    "index_err = stacked_data.query(' Duration  == 0 or Lifetime_Gross == 0 ').index\n",
    "stacked_data.drop(index_err, axis=0, inplace=True)\n",
    "stacked_data.describe()"
   ]
  },
  {
   "cell_type": "code",
   "execution_count": 6,
   "metadata": {},
   "outputs": [
    {
     "data": {
      "text/plain": [
       "count               7665\n",
       "unique              7623\n",
       "top       $14,000,000.00\n",
       "freq                   4\n",
       "Name: Lifetime_Gross, dtype: object"
      ]
     },
     "execution_count": 6,
     "metadata": {},
     "output_type": "execute_result"
    }
   ],
   "source": [
    "# discovering statstics of Lifetime gross\n",
    "stacked_data.Lifetime_Gross.describe()"
   ]
  },
  {
   "cell_type": "code",
   "execution_count": 7,
   "metadata": {},
   "outputs": [
    {
     "data": {
      "image/png": "[encoded data removed]",
      "text/plain": [
       "<Figure size 432x288 with 1 Axes>"
      ]
     },
     "metadata": {
      "needs_background": "light"
     },
     "output_type": "display_data"
    }
   ],
   "source": [
    "stacked_data.Lifetime_Gross.hist();"
   ]
  },
  {
   "cell_type": "code",
   "execution_count": 9,
   "metadata": {},
   "outputs": [
    {
     "data": {
      "text/html": [
       "<div>\n",
       "<style scoped>\n",
       "    .dataframe tbody tr th:only-of-type {\n",
       "        vertical-align: middle;\n",
       "    }\n",
       "\n",
       "    .dataframe tbody tr th {\n",
       "        vertical-align: top;\n",
       "    }\n",
       "\n",
       "    .dataframe thead th {\n",
       "        text-align: right;\n",
       "    }\n",
       "</style>\n",
       "<table border=\"1\" class=\"dataframe\">\n",
       "  <thead>\n",
       "    <tr style=\"text-align: right;\">\n",
       "      <th></th>\n",
       "      <th>Unnamed: 0</th>\n",
       "      <th>IMDB ID</th>\n",
       "      <th>Title</th>\n",
       "      <th>Year</th>\n",
       "      <th>Date Published</th>\n",
       "      <th>Genre</th>\n",
       "      <th>Duration</th>\n",
       "      <th>Country</th>\n",
       "      <th>Language</th>\n",
       "      <th>Director</th>\n",
       "      <th>Writer</th>\n",
       "      <th>Production Company</th>\n",
       "      <th>Actors</th>\n",
       "      <th>Avg Rating</th>\n",
       "      <th># of Ratings</th>\n",
       "      <th>Lifetime_Gross</th>\n",
       "      <th>Lifetime Gross - Adjusted ($)</th>\n",
       "    </tr>\n",
       "  </thead>\n",
       "  <tbody>\n",
       "    <tr>\n",
       "      <th>84</th>\n",
       "      <td>84</td>\n",
       "      <td>tt0066434</td>\n",
       "      <td>THX 1138</td>\n",
       "      <td>1971</td>\n",
       "      <td>1971-03-11</td>\n",
       "      <td>Drama, Sci-Fi, Thriller</td>\n",
       "      <td>86</td>\n",
       "      <td>USA</td>\n",
       "      <td>English</td>\n",
       "      <td>George Lucas</td>\n",
       "      <td>George Lucas, George Lucas</td>\n",
       "      <td>American Zoetrope</td>\n",
       "      <td>Robert Duvall, Donald Pleasence, Don Pedro Col...</td>\n",
       "      <td>6.7</td>\n",
       "      <td>45363</td>\n",
       "      <td>$2,437,000.00</td>\n",
       "      <td>$15,109,821.21</td>\n",
       "    </tr>\n",
       "    <tr>\n",
       "      <th>85</th>\n",
       "      <td>85</td>\n",
       "      <td>tt0066819</td>\n",
       "      <td>The Beguiled</td>\n",
       "      <td>1971</td>\n",
       "      <td>1972-05-12</td>\n",
       "      <td>Drama, Thriller, War</td>\n",
       "      <td>105</td>\n",
       "      <td>USA</td>\n",
       "      <td>English, French</td>\n",
       "      <td>Don Siegel</td>\n",
       "      <td>Albert Maltz, Irene Kamp</td>\n",
       "      <td>The Malpaso Company</td>\n",
       "      <td>Clint Eastwood, Geraldine Page, Elizabeth Hart...</td>\n",
       "      <td>7.2</td>\n",
       "      <td>14504</td>\n",
       "      <td>$1,100,000.00</td>\n",
       "      <td>$6,820,190.12</td>\n",
       "    </tr>\n",
       "    <tr>\n",
       "      <th>86</th>\n",
       "      <td>86</td>\n",
       "      <td>tt0066995</td>\n",
       "      <td>Diamonds Are Forever</td>\n",
       "      <td>1971</td>\n",
       "      <td>1972-01-14</td>\n",
       "      <td>Action, Adventure, Thriller</td>\n",
       "      <td>120</td>\n",
       "      <td>UK</td>\n",
       "      <td>English, German</td>\n",
       "      <td>Guy Hamilton</td>\n",
       "      <td>Richard Maibaum, Tom Mankiewicz</td>\n",
       "      <td>Eon Productions</td>\n",
       "      <td>Sean Connery, Jill St. John, Charles Gray, Lan...</td>\n",
       "      <td>6.6</td>\n",
       "      <td>88473</td>\n",
       "      <td>$43,819,547.00</td>\n",
       "      <td>$271,688,765.15</td>\n",
       "    </tr>\n",
       "    <tr>\n",
       "      <th>87</th>\n",
       "      <td>87</td>\n",
       "      <td>tt0066999</td>\n",
       "      <td>Dirty Harry</td>\n",
       "      <td>1971</td>\n",
       "      <td>1972-07-14</td>\n",
       "      <td>Action, Crime, Thriller</td>\n",
       "      <td>102</td>\n",
       "      <td>USA</td>\n",
       "      <td>English</td>\n",
       "      <td>Don Siegel</td>\n",
       "      <td>Harry Julian Fink, Rita M. Fink</td>\n",
       "      <td>The Malpaso Company</td>\n",
       "      <td>Clint Eastwood, Harry Guardino, Reni Santoni, ...</td>\n",
       "      <td>7.7</td>\n",
       "      <td>134515</td>\n",
       "      <td>$35,976,000.00</td>\n",
       "      <td>$223,057,418.07</td>\n",
       "    </tr>\n",
       "    <tr>\n",
       "      <th>88</th>\n",
       "      <td>88</td>\n",
       "      <td>tt0067065</td>\n",
       "      <td>Escape from the Planet of the Apes</td>\n",
       "      <td>1971</td>\n",
       "      <td>1971-08-13</td>\n",
       "      <td>Action, Sci-Fi</td>\n",
       "      <td>98</td>\n",
       "      <td>USA</td>\n",
       "      <td>English</td>\n",
       "      <td>Don Taylor</td>\n",
       "      <td>Paul Dehn, Pierre Boulle</td>\n",
       "      <td>Twentieth Century Fox</td>\n",
       "      <td>Roddy McDowall, Kim Hunter, Bradford Dillman, ...</td>\n",
       "      <td>6.3</td>\n",
       "      <td>30017</td>\n",
       "      <td>$12,348,905.00</td>\n",
       "      <td>$76,565,345.38</td>\n",
       "    </tr>\n",
       "  </tbody>\n",
       "</table>\n",
       "</div>"
      ],
      "text/plain": [
       "    Unnamed: 0    IMDB ID                               Title  Year  \\\n",
       "84          84  tt0066434                            THX 1138  1971   \n",
       "85          85  tt0066819                        The Beguiled  1971   \n",
       "86          86  tt0066995                Diamonds Are Forever  1971   \n",
       "87          87  tt0066999                         Dirty Harry  1971   \n",
       "88          88  tt0067065  Escape from the Planet of the Apes  1971   \n",
       "\n",
       "   Date Published                        Genre  Duration Country  \\\n",
       "84     1971-03-11      Drama, Sci-Fi, Thriller        86     USA   \n",
       "85     1972-05-12         Drama, Thriller, War       105     USA   \n",
       "86     1972-01-14  Action, Adventure, Thriller       120      UK   \n",
       "87     1972-07-14      Action, Crime, Thriller       102     USA   \n",
       "88     1971-08-13               Action, Sci-Fi        98     USA   \n",
       "\n",
       "           Language      Director                           Writer  \\\n",
       "84          English  George Lucas       George Lucas, George Lucas   \n",
       "85  English, French    Don Siegel         Albert Maltz, Irene Kamp   \n",
       "86  English, German  Guy Hamilton  Richard Maibaum, Tom Mankiewicz   \n",
       "87          English    Don Siegel  Harry Julian Fink, Rita M. Fink   \n",
       "88          English    Don Taylor         Paul Dehn, Pierre Boulle   \n",
       "\n",
       "       Production Company                                             Actors  \\\n",
       "84      American Zoetrope  Robert Duvall, Donald Pleasence, Don Pedro Col...   \n",
       "85    The Malpaso Company  Clint Eastwood, Geraldine Page, Elizabeth Hart...   \n",
       "86        Eon Productions  Sean Connery, Jill St. John, Charles Gray, Lan...   \n",
       "87    The Malpaso Company  Clint Eastwood, Harry Guardino, Reni Santoni, ...   \n",
       "88  Twentieth Century Fox  Roddy McDowall, Kim Hunter, Bradford Dillman, ...   \n",
       "\n",
       "    Avg Rating  # of Ratings  Lifetime_Gross Lifetime Gross - Adjusted ($)  \n",
       "84         6.7         45363   $2,437,000.00                $15,109,821.21  \n",
       "85         7.2         14504   $1,100,000.00                 $6,820,190.12  \n",
       "86         6.6         88473  $43,819,547.00               $271,688,765.15  \n",
       "87         7.7        134515  $35,976,000.00               $223,057,418.07  \n",
       "88         6.3         30017  $12,348,905.00                $76,565,345.38  "
      ]
     },
     "execution_count": 9,
     "metadata": {},
     "output_type": "execute_result"
    }
   ],
   "source": [
    "stacked_data2 = stacked_data[stacked_data['Year']>1970]\n",
    "stacked_data2.head()"
   ]
  },
  {
   "cell_type": "code",
   "execution_count": 23,
   "metadata": {
    "scrolled": true
   },
   "outputs": [
    {
     "ename": "ValueError",
     "evalue": "Input array must be 1 dimensional",
     "output_type": "error",
     "traceback": [
      "\u001b[1;31m---------------------------------------------------------------------------\u001b[0m",
      "\u001b[1;31mValueError\u001b[0m                                Traceback (most recent call last)",
      "\u001b[1;32m<ipython-input-23-2e8db272a3a0>\u001b[0m in \u001b[0;36m<module>\u001b[1;34m\u001b[0m\n\u001b[0;32m      2\u001b[0m \u001b[0mdecade_bins\u001b[0m \u001b[1;33m=\u001b[0m \u001b[1;33m[\u001b[0m\u001b[1;36m1969\u001b[0m\u001b[1;33m,\u001b[0m \u001b[1;36m1979\u001b[0m\u001b[1;33m,\u001b[0m \u001b[1;36m1989\u001b[0m\u001b[1;33m,\u001b[0m \u001b[1;36m1999\u001b[0m\u001b[1;33m,\u001b[0m \u001b[1;36m2009\u001b[0m\u001b[1;33m,\u001b[0m \u001b[1;36m2019\u001b[0m\u001b[1;33m]\u001b[0m\u001b[1;33m\u001b[0m\u001b[1;33m\u001b[0m\u001b[0m\n\u001b[0;32m      3\u001b[0m \u001b[0mdecade_names\u001b[0m \u001b[1;33m=\u001b[0m \u001b[1;33m[\u001b[0m\u001b[1;34m'1970-1979'\u001b[0m\u001b[1;33m,\u001b[0m \u001b[1;34m'1980-1989'\u001b[0m\u001b[1;33m,\u001b[0m \u001b[1;34m'1990-1999'\u001b[0m\u001b[1;33m,\u001b[0m \u001b[1;34m'2000-2009'\u001b[0m\u001b[1;33m,\u001b[0m \u001b[1;34m'2010-2019'\u001b[0m\u001b[1;33m]\u001b[0m\u001b[1;33m\u001b[0m\u001b[1;33m\u001b[0m\u001b[0m\n\u001b[1;32m----> 4\u001b[1;33m \u001b[0mstacked_data2\u001b[0m\u001b[1;33m[\u001b[0m\u001b[1;34m'decade'\u001b[0m\u001b[1;33m]\u001b[0m \u001b[1;33m=\u001b[0m \u001b[0mpd\u001b[0m\u001b[1;33m.\u001b[0m\u001b[0mcut\u001b[0m\u001b[1;33m(\u001b[0m\u001b[0mstacked_data2\u001b[0m\u001b[1;33m[\u001b[0m\u001b[1;34m'Year'\u001b[0m\u001b[1;33m]\u001b[0m\u001b[1;33m,\u001b[0m \u001b[0mdecade_bins\u001b[0m\u001b[1;33m,\u001b[0m \u001b[0mlabels\u001b[0m\u001b[1;33m=\u001b[0m \u001b[0mdecade_names\u001b[0m\u001b[1;33m)\u001b[0m\u001b[1;33m\u001b[0m\u001b[1;33m\u001b[0m\u001b[0m\n\u001b[0m\u001b[0;32m      5\u001b[0m \u001b[0mstacked_data2\u001b[0m\u001b[1;33m=\u001b[0m\u001b[0mpd\u001b[0m\u001b[1;33m.\u001b[0m\u001b[0mconcat\u001b[0m\u001b[1;33m(\u001b[0m\u001b[1;33m[\u001b[0m\u001b[0mstacked_data2\u001b[0m\u001b[1;33m,\u001b[0m \u001b[0mstacked_data2\u001b[0m\u001b[1;33m]\u001b[0m\u001b[1;33m,\u001b[0m \u001b[0maxis\u001b[0m\u001b[1;33m=\u001b[0m\u001b[1;36m0\u001b[0m\u001b[1;33m)\u001b[0m\u001b[1;33m\u001b[0m\u001b[1;33m\u001b[0m\u001b[0m\n\u001b[0;32m      6\u001b[0m \u001b[0mstacked_data2\u001b[0m\u001b[1;33m.\u001b[0m\u001b[0mhead\u001b[0m\u001b[1;33m(\u001b[0m\u001b[1;33m)\u001b[0m\u001b[1;33m\u001b[0m\u001b[1;33m\u001b[0m\u001b[0m\n",
      "\u001b[1;32m~\\anaconda3\\lib\\site-packages\\pandas\\core\\reshape\\tile.py\u001b[0m in \u001b[0;36mcut\u001b[1;34m(x, bins, right, labels, retbins, precision, include_lowest, duplicates)\u001b[0m\n\u001b[0;32m    204\u001b[0m \u001b[1;33m\u001b[0m\u001b[0m\n\u001b[0;32m    205\u001b[0m     \u001b[0moriginal\u001b[0m \u001b[1;33m=\u001b[0m \u001b[0mx\u001b[0m\u001b[1;33m\u001b[0m\u001b[1;33m\u001b[0m\u001b[0m\n\u001b[1;32m--> 206\u001b[1;33m     \u001b[0mx\u001b[0m \u001b[1;33m=\u001b[0m \u001b[0m_preprocess_for_cut\u001b[0m\u001b[1;33m(\u001b[0m\u001b[0mx\u001b[0m\u001b[1;33m)\u001b[0m\u001b[1;33m\u001b[0m\u001b[1;33m\u001b[0m\u001b[0m\n\u001b[0m\u001b[0;32m    207\u001b[0m     \u001b[0mx\u001b[0m\u001b[1;33m,\u001b[0m \u001b[0mdtype\u001b[0m \u001b[1;33m=\u001b[0m \u001b[0m_coerce_to_type\u001b[0m\u001b[1;33m(\u001b[0m\u001b[0mx\u001b[0m\u001b[1;33m)\u001b[0m\u001b[1;33m\u001b[0m\u001b[1;33m\u001b[0m\u001b[0m\n\u001b[0;32m    208\u001b[0m \u001b[1;33m\u001b[0m\u001b[0m\n",
      "\u001b[1;32m~\\anaconda3\\lib\\site-packages\\pandas\\core\\reshape\\tile.py\u001b[0m in \u001b[0;36m_preprocess_for_cut\u001b[1;34m(x)\u001b[0m\n\u001b[0;32m    553\u001b[0m         \u001b[0mx\u001b[0m \u001b[1;33m=\u001b[0m \u001b[0mnp\u001b[0m\u001b[1;33m.\u001b[0m\u001b[0masarray\u001b[0m\u001b[1;33m(\u001b[0m\u001b[0mx\u001b[0m\u001b[1;33m)\u001b[0m\u001b[1;33m\u001b[0m\u001b[1;33m\u001b[0m\u001b[0m\n\u001b[0;32m    554\u001b[0m     \u001b[1;32mif\u001b[0m \u001b[0mx\u001b[0m\u001b[1;33m.\u001b[0m\u001b[0mndim\u001b[0m \u001b[1;33m!=\u001b[0m \u001b[1;36m1\u001b[0m\u001b[1;33m:\u001b[0m\u001b[1;33m\u001b[0m\u001b[1;33m\u001b[0m\u001b[0m\n\u001b[1;32m--> 555\u001b[1;33m         \u001b[1;32mraise\u001b[0m \u001b[0mValueError\u001b[0m\u001b[1;33m(\u001b[0m\u001b[1;34m\"Input array must be 1 dimensional\"\u001b[0m\u001b[1;33m)\u001b[0m\u001b[1;33m\u001b[0m\u001b[1;33m\u001b[0m\u001b[0m\n\u001b[0m\u001b[0;32m    556\u001b[0m \u001b[1;33m\u001b[0m\u001b[0m\n\u001b[0;32m    557\u001b[0m     \u001b[1;32mreturn\u001b[0m \u001b[0mx\u001b[0m\u001b[1;33m\u001b[0m\u001b[1;33m\u001b[0m\u001b[0m\n",
      "\u001b[1;31mValueError\u001b[0m: Input array must be 1 dimensional"
     ]
    }
   ],
   "source": [
    "# Bin data by decade\n",
    "decade_bins = [1969, 1979, 1989, 1999, 2009, 2019]\n",
    "decade_names = ['1970-1979', '1980-1989', '1990-1999', '2000-2009', '2010-2019']\n",
    "stacked_data2['decade'] = pd.cut(stacked_data2['Year'], decade_bins, labels= decade_names)\n",
    "stacked_data2=pd.concat([stacked_data2, stacked_data2], axis=0)\n",
    "stacked_data2.head()\n",
    "\n"
   ]
  },
  {
   "cell_type": "code",
   "execution_count": null,
   "metadata": {},
   "outputs": [],
   "source": [
    " ltg_dec.head() "
   ]
  },
  {
   "cell_type": "code",
   "execution_count": 12,
   "metadata": {},
   "outputs": [
    {
     "data": {
      "image/png": "[encoded data removed]",
      "text/plain": [
       "<Figure size 1440x720 with 1 Axes>"
      ]
     },
     "metadata": {
      "needs_background": "light"
     },
     "output_type": "display_data"
    }
   ],
   "source": [
    "stacked_data2['Lifetime_Gross'] = stacked_data2['Lifetime_Gross'].astype(str)\n",
    "stacked_data2['Lifetime_Gross'] = stacked_data2['Lifetime_Gross'].str.replace('$','')\n",
    "stacked_data2['Lifetime_Gross'] = stacked_data2['Lifetime_Gross'].str.replace(',','')\n",
    "stacked_data2['Lifetime_Gross'] = stacked_data2['Lifetime_Gross'].astype(float)\n",
    "\n",
    "Lifetime_Gross = stacked_data2['Lifetime_Gross']\n",
    "ltg_dec = stacked_data2.groupby('decade').Lifetime_Gross.mean().reset_index()\n",
    "ltg_dec.plot(kind='bar',  figsize=(20,10))\n",
    "plt.xticks([0,1,2,3,4,5,6,7,8,9], ltg_dec['decade'], rotation='vertical')\n",
    "# plt.plot(ltg_dec.decade, ltg_dec.Lifetime_Gross)Stacked_da\n",
    "plt.title(\"The comparison of lifetime gross in different decades\", fontsize=25)\n",
    "plt.xlabel(\"Decade\", fontsize=25)\n",
    "plt.ylabel(\"Lifetime Gross in Million\", fontsize=25) \n",
    "plt.show()\n",
    "\n"
   ]
  },
  {
   "cell_type": "code",
   "execution_count": 13,
   "metadata": {},
   "outputs": [
    {
     "data": {
      "text/plain": [
       "count          7581\n",
       "unique            5\n",
       "top       2000-2009\n",
       "freq           2180\n",
       "Name: decade, dtype: object"
      ]
     },
     "execution_count": 13,
     "metadata": {},
     "output_type": "execute_result"
    }
   ],
   "source": [
    "stacked_data2.decade.describe()"
   ]
  },
  {
   "cell_type": "code",
   "execution_count": 14,
   "metadata": {},
   "outputs": [
    {
     "data": {
      "image/png": "[encoded data removed]",
      "text/plain": [
       "<Figure size 432x288 with 1 Axes>"
      ]
     },
     "metadata": {
      "needs_background": "light"
     },
     "output_type": "display_data"
    }
   ],
   "source": [
    "stacked_data2.decade.hist();\n"
   ]
  },
  {
   "cell_type": "code",
   "execution_count": 15,
   "metadata": {
    "scrolled": true
   },
   "outputs": [
    {
     "data": {
      "text/plain": [
       "count    1.895000e+03\n",
       "mean     9.929909e+07\n",
       "std      7.971880e+07\n",
       "min      3.693109e+07\n",
       "25%      5.005774e+07\n",
       "50%      7.045410e+07\n",
       "75%      1.185223e+08\n",
       "max      7.605076e+08\n",
       "Name: Lifetime_Gross, dtype: float64"
      ]
     },
     "execution_count": 15,
     "metadata": {},
     "output_type": "execute_result"
    }
   ],
   "source": [
    "# Finding high lifetime gross\n",
    "#stacked_data = pd.read_csv(\"Data/data_cleaning_stacked.csv\")\n",
    "\n",
    "Lifetime_Gross = Lifetime_Gross.astype(int)\n",
    "high_ltg = stacked_data2.Lifetime_Gross.quantile([.75])\n",
    "high_ltg_df = stacked_data2[stacked_data2.Lifetime_Gross > high_ltg.iloc[0]]\n",
    "high_ltg_df.Lifetime_Gross.describe()"
   ]
  },
  {
   "cell_type": "code",
   "execution_count": 16,
   "metadata": {},
   "outputs": [
    {
     "data": {
      "text/plain": [
       "36906460.0"
      ]
     },
     "execution_count": 16,
     "metadata": {},
     "output_type": "execute_result"
    }
   ],
   "source": [
    "# high_ltg.head() \n",
    "high_ltg.iloc[0]"
   ]
  },
  {
   "cell_type": "code",
   "execution_count": 17,
   "metadata": {},
   "outputs": [
    {
     "data": {
      "image/png": "[encoded data removed]",
      "text/plain": [
       "<Figure size 432x288 with 1 Axes>"
      ]
     },
     "metadata": {
      "needs_background": "light"
     },
     "output_type": "display_data"
    }
   ],
   "source": [
    "# Duration and lifetime gross (scatter plot)\n",
    "plt.scatter(x=high_ltg_df.Duration, y=high_ltg_df.Lifetime_Gross)\n",
    "plt.title('The correlation between Duration and Lifetime Gross')\n",
    "plt.xlabel('Duration')\n",
    "plt.ylabel('Revenue')\n",
    " \n",
    "plt.show()"
   ]
  },
  {
   "cell_type": "code",
   "execution_count": 18,
   "metadata": {},
   "outputs": [
    {
     "data": {
      "text/html": [
       "<div>\n",
       "<style scoped>\n",
       "    .dataframe tbody tr th:only-of-type {\n",
       "        vertical-align: middle;\n",
       "    }\n",
       "\n",
       "    .dataframe tbody tr th {\n",
       "        vertical-align: top;\n",
       "    }\n",
       "\n",
       "    .dataframe thead th {\n",
       "        text-align: right;\n",
       "    }\n",
       "</style>\n",
       "<table border=\"1\" class=\"dataframe\">\n",
       "  <thead>\n",
       "    <tr style=\"text-align: right;\">\n",
       "      <th></th>\n",
       "      <th>Year</th>\n",
       "      <th>Year</th>\n",
       "      <th>Year</th>\n",
       "      <th>Genre</th>\n",
       "      <th>Genre</th>\n",
       "      <th>Genre</th>\n",
       "      <th>Avg Rating</th>\n",
       "      <th>Avg Rating</th>\n",
       "      <th>Avg Rating</th>\n",
       "    </tr>\n",
       "  </thead>\n",
       "  <tbody>\n",
       "    <tr>\n",
       "      <th>0</th>\n",
       "      <td>1921</td>\n",
       "      <td>NaN</td>\n",
       "      <td>NaN</td>\n",
       "      <td>Drama, Romance, War</td>\n",
       "      <td>NaN</td>\n",
       "      <td>NaN</td>\n",
       "      <td>7.2</td>\n",
       "      <td>NaN</td>\n",
       "      <td>NaN</td>\n",
       "    </tr>\n",
       "    <tr>\n",
       "      <th>1</th>\n",
       "      <td>1927</td>\n",
       "      <td>NaN</td>\n",
       "      <td>NaN</td>\n",
       "      <td>Drama, Sci-Fi</td>\n",
       "      <td>NaN</td>\n",
       "      <td>NaN</td>\n",
       "      <td>8.3</td>\n",
       "      <td>NaN</td>\n",
       "      <td>NaN</td>\n",
       "    </tr>\n",
       "    <tr>\n",
       "      <th>2</th>\n",
       "      <td>1926</td>\n",
       "      <td>NaN</td>\n",
       "      <td>NaN</td>\n",
       "      <td>Action, Adventure, Fantasy</td>\n",
       "      <td>NaN</td>\n",
       "      <td>NaN</td>\n",
       "      <td>6.5</td>\n",
       "      <td>NaN</td>\n",
       "      <td>NaN</td>\n",
       "    </tr>\n",
       "    <tr>\n",
       "      <th>3</th>\n",
       "      <td>1931</td>\n",
       "      <td>NaN</td>\n",
       "      <td>NaN</td>\n",
       "      <td>Comedy, Drama, Romance</td>\n",
       "      <td>NaN</td>\n",
       "      <td>NaN</td>\n",
       "      <td>8.5</td>\n",
       "      <td>NaN</td>\n",
       "      <td>NaN</td>\n",
       "    </tr>\n",
       "    <tr>\n",
       "      <th>4</th>\n",
       "      <td>1936</td>\n",
       "      <td>NaN</td>\n",
       "      <td>NaN</td>\n",
       "      <td>Comedy, Drama, Family</td>\n",
       "      <td>NaN</td>\n",
       "      <td>NaN</td>\n",
       "      <td>8.5</td>\n",
       "      <td>NaN</td>\n",
       "      <td>NaN</td>\n",
       "    </tr>\n",
       "  </tbody>\n",
       "</table>\n",
       "</div>"
      ],
      "text/plain": [
       "   Year  Year  Year                       Genre Genre Genre  Avg Rating  \\\n",
       "0  1921   NaN   NaN         Drama, Romance, War   NaN   NaN         7.2   \n",
       "1  1927   NaN   NaN               Drama, Sci-Fi   NaN   NaN         8.3   \n",
       "2  1926   NaN   NaN  Action, Adventure, Fantasy   NaN   NaN         6.5   \n",
       "3  1931   NaN   NaN      Comedy, Drama, Romance   NaN   NaN         8.5   \n",
       "4  1936   NaN   NaN       Comedy, Drama, Family   NaN   NaN         8.5   \n",
       "\n",
       "   Avg Rating  Avg Rating  \n",
       "0         NaN         NaN  \n",
       "1         NaN         NaN  \n",
       "2         NaN         NaN  \n",
       "3         NaN         NaN  \n",
       "4         NaN         NaN  "
      ]
     },
     "execution_count": 18,
     "metadata": {},
     "output_type": "execute_result"
    }
   ],
   "source": [
    "stacked_data_genres = stacked_data[['Year', 'Genre', 'Avg Rating']]\n",
    "stacked_data_genres.head()"
   ]
  },
  {
   "cell_type": "code",
   "execution_count": null,
   "metadata": {},
   "outputs": [],
   "source": []
  },
  {
   "cell_type": "code",
   "execution_count": null,
   "metadata": {},
   "outputs": [],
   "source": []
  }
 ],
 "metadata": {
  "kernelspec": {
   "display_name": "Python 3",
   "language": "python",
   "name": "python3"
  },
  "language_info": {
   "codemirror_mode": {
    "name": "ipython",
    "version": 3
   },
   "file_extension": ".py",
   "mimetype": "text/x-python",
   "name": "python",
   "nbconvert_exporter": "python",
   "pygments_lexer": "ipython3",
   "version": "3.7.6"
  }
 },
 "nbformat": 4,
 "nbformat_minor": 4
}
