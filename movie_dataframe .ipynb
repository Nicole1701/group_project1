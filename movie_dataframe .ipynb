{
 "cells": [
  {
   "cell_type": "code",
   "execution_count": 3,
   "metadata": {},
   "outputs": [],
   "source": [
    "# Dependencies and Setup\n",
    "import matplotlib.pyplot as plt\n",
    "import pandas as pd\n",
    "import numpy as np\n",
    "from scipy import stats\n",
    "from scipy.stats import linregress"
   ]
  },
  {
   "cell_type": "code",
   "execution_count": 4,
   "metadata": {},
   "outputs": [],
   "source": [
    "# CSV Path\n",
    "imdb_movies_csv = \"Data/imdb_movies.csv\"\n",
    "box_office_csv = \"Data/boxoffice.csv\""
   ]
  },
  {
   "cell_type": "code",
   "execution_count": 5,
   "metadata": {
    "scrolled": true
   },
   "outputs": [],
   "source": [
    "# Variables for the seperate data frames \n",
    "imdb_df = pd.read_csv(imdb_movies_csv)\n",
    "box_office_df = pd.read_csv(box_office_csv)"
   ]
  },
  {
   "cell_type": "code",
   "execution_count": 6,
   "metadata": {},
   "outputs": [],
   "source": [
    "# Removing columns I do not need\n",
    "col_imdb_df = imdb_df[['imdb_title_id', 'original_title', 'year', 'date_published', 'genre', 'duration', 'country', \n",
    "                         'language', 'director', 'writer', 'production_company', 'actors', 'avg_vote', 'votes']]\n",
    "\n",
    "col_box_office_df = box_office_df[['title', 'lifetime_gross']]\n"
   ]
  },
  {
   "cell_type": "code",
   "execution_count": 7,
   "metadata": {},
   "outputs": [],
   "source": [
    "# Renaming columns to be more uniform\n",
    "col_imdb_df = col_imdb_df.rename(columns={'imdb_title_id': \"IMDB ID\", 'original_title': 'Title', 'year': 'Year', \n",
    "                                          'date_published': 'Date Published', 'genre': 'Genre', 'duration': 'Duration',\n",
    "                                         'country': 'Country', 'language': 'Language', 'director': 'Director', 'writer': 'Writer',\n",
    "                                         'production_company': 'Production Company', 'actors': 'Actors', 'avg_vote': 'Avg Rating',\n",
    "                                          'votes': '# of Ratings'})\n",
    "\n",
    "col_box_office_df = col_box_office_df.rename(columns={'title': 'Title', 'lifetime_gross': 'Lifetime Gross ($)'})"
   ]
  },
  {
   "cell_type": "code",
   "execution_count": 8,
   "metadata": {},
   "outputs": [],
   "source": [
    "# Merging data frames\n",
    "movie_data = pd.merge(col_imdb_df, col_box_office_df, on='Title')\n",
    "\n",
    "# Formatting columns\n",
    "movie_data['Lifetime Gross ($)'] = movie_data['Lifetime Gross ($)'].astype(float).map(\"${:,.2f}\".format)"
   ]
  },
  {
   "cell_type": "code",
   "execution_count": 9,
   "metadata": {},
   "outputs": [],
   "source": [
    "# Pushing the cleaned DF to a CSV file\n",
    "movie_data.to_csv(\"Data/movie_data_final.csv\")"
   ]
  },
  {
   "cell_type": "code",
   "execution_count": null,
   "metadata": {},
   "outputs": [],
   "source": []
  }
 ],
 "metadata": {
  "kernelspec": {
   "display_name": "Python 3",
   "language": "python",
   "name": "python3"
  },
  "language_info": {
   "codemirror_mode": {
    "name": "ipython",
    "version": 3
   },
   "file_extension": ".py",
   "mimetype": "text/x-python",
   "name": "python",
   "nbconvert_exporter": "python",
   "pygments_lexer": "ipython3",
   "version": "3.6.10"
  }
 },
 "nbformat": 4,
 "nbformat_minor": 4
}
